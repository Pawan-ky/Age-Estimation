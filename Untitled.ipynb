{
 "cells": [
  {
   "cell_type": "markdown",
   "metadata": {},
   "source": [
    "### Models"
   ]
  },
  {
   "cell_type": "code",
   "execution_count": null,
   "metadata": {},
   "outputs": [],
   "source": [
    "# Loading the trained CNN model for age classification, and\n",
    "# defining a list of age-ranges as defined in the model.\n",
    "\n",
    "model = load_model(\"age_detect_cnn_model.h5\")\n",
    "age_ranges = ['1-2', '3-9', '10-20', '21-27', '28-45', '46-65', '66-116']\n",
    "\n",
    "\n",
    "# Importing the Haar Cascades classifier XML file.\n",
    "\n",
    "face_cascade = cv2.CascadeClassifier(\"haarcascade_frontalface_default.xml\")"
   ]
  },
  {
   "cell_type": "markdown",
   "metadata": {},
   "source": [
    "### Utils"
   ]
  },
  {
   "cell_type": "code",
   "execution_count": null,
   "metadata": {},
   "outputs": [],
   "source": [
    "# Defining a function to find faces in an image and then classify each found face into age-ranges defined above.\n",
    "\n",
    "def classify_age(img):\n",
    "\n",
    "    # Making a copy of the image for overlay of ages and making a grayscale copy for passing to the loaded model for age classification.\n",
    "    img_copy = np.copy(img)\n",
    "    img_gray = cv2.cvtColor(img, cv2.COLOR_BGR2GRAY)\n",
    "\n",
    "    # Detecting faces in the image using the face_cascade loaded above and storing their coordinates into a list.\n",
    "    faces = face_cascade.detectMultiScale(img_copy, scaleFactor=1.2, minNeighbors=6, minSize=(100, 100))\n",
    "    print(f\"{len(faces)} faces found.\")\n",
    "    \n",
    "    if len(faces)<0:\n",
    "        print('No Face Found Please try again')\n",
    "        return 'No Face'\n",
    "    elif len(faces)>1:\n",
    "        print('More than 1 face found')\n",
    "        return 'More faces'\n",
    "    else:\n",
    "\n",
    "        # Looping through each face found in the image.\n",
    "        for i, (x, y, w, h) in enumerate(faces):\n",
    "\n",
    "            # Drawing a rectangle around the found face.\n",
    "            face_rect = cv2.rectangle(img_copy, (x, y), (x+w, y+h), (0, 100, 0), thickness=2)\n",
    "\n",
    "            # Predicting the age of the found face using the model loaded above.\n",
    "            x2, y2, w2, h2 = shrink_face_roi(x, y, w, h)\n",
    "            face_roi = img_gray[y2:y2+h2, x2:x2+w2]\n",
    "            face_roi = cv2.resize(face_roi, (200, 200))\n",
    "            face_roi = face_roi.reshape(-1, 200, 200, 1)\n",
    "            face_age = age_ranges[np.argmax(model.predict(face_roi))]\n",
    "            face_age_pct = round(np.max(model.predict(face_roi))*100, 2)        # estimation confidence\n",
    "\n",
    "    return face_age,face_age_pct                 # returns age range and confidence"
   ]
  },
  {
   "cell_type": "code",
   "execution_count": null,
   "metadata": {},
   "outputs": [],
   "source": [
    "# Defining a function to shrink the detected face region by a scale for better prediction in the model.\n",
    "\n",
    "def shrink_face_roi(x, y, w, h, scale=0.9):\n",
    "    wh_multiplier = (1-scale)/2\n",
    "    x_new = int(x + (w * wh_multiplier))\n",
    "    y_new = int(y + (h * wh_multiplier))\n",
    "    w_new = int(w * scale)\n",
    "    h_new = int(h * scale)\n",
    "    return (x_new, y_new, w_new, h_new)"
   ]
  },
  {
   "cell_type": "code",
   "execution_count": null,
   "metadata": {},
   "outputs": [],
   "source": []
  },
  {
   "cell_type": "code",
   "execution_count": null,
   "metadata": {},
   "outputs": [],
   "source": []
  }
 ],
 "metadata": {
  "kernelspec": {
   "display_name": "Python 3",
   "language": "python",
   "name": "python3"
  },
  "language_info": {
   "codemirror_mode": {
    "name": "ipython",
    "version": 3
   },
   "file_extension": ".py",
   "mimetype": "text/x-python",
   "name": "python",
   "nbconvert_exporter": "python",
   "pygments_lexer": "ipython3",
   "version": "3.7.4"
  }
 },
 "nbformat": 4,
 "nbformat_minor": 2
}
